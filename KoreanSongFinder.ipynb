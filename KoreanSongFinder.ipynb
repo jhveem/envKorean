{
 "cells": [
  {
   "cell_type": "code",
   "execution_count": 1,
   "metadata": {},
   "outputs": [],
   "source": [
    "from pathlib import Path\n",
    "import os"
   ]
  },
  {
   "cell_type": "code",
   "execution_count": 2,
   "metadata": {},
   "outputs": [],
   "source": [
    "def getTagContent(tagName, text):\n",
    "    tagStart = \"<\" + tagName + \">\"\n",
    "    tagEnd = \"</\" + tagName + \">\"\n",
    "    posStart = text.find(tagStart)\n",
    "    if posStart != -1:\n",
    "        posStart += len(tagStart)\n",
    "        posEnd = text.find(tagEnd)\n",
    "        tagContent = text[posStart:posEnd]\n",
    "        return tagContent\n",
    "    else:\n",
    "        return \"\""
   ]
  },
  {
   "cell_type": "code",
   "execution_count": 3,
   "metadata": {},
   "outputs": [],
   "source": [
    "class Song:\n",
    "    def __init__(self, fileName, text):\n",
    "        self.fileName = fileName\n",
    "        self.text = text\n",
    "        self.difficulty = {}\n",
    "        self.wordCount = int(getTagContent(\"TOTAL\", text))\n",
    "        self.getDifficulty()\n",
    "        \n",
    "    def getDifficulty(self):\n",
    "        for i in range(1, 9):\n",
    "            countTag = \"PERCENTKNOWN\" + str(i)\n",
    "            self.difficulty[i] = float(getTagContent(countTag, self.text))"
   ]
  },
  {
   "cell_type": "code",
   "execution_count": 11,
   "metadata": {
    "scrolled": true
   },
   "outputs": [],
   "source": [
    "directory = \"lyricsData\"\n",
    "end = ''\n",
    "songList = {}\n",
    "count = 0\n",
    "for fileName in os.listdir(directory):\n",
    "    if fileName.endswith('.txt'):\n",
    "        myFileName = os.path.join(directory, fileName)\n",
    "        with open (myFileName, \"r\",encoding='utf8') as f:\n",
    "            text =  f.read()\n",
    "            songList[fileName] = Song(fileName, text)\n",
    "            count += 1\n",
    "            f.close()\n",
    "            if (count % 1000 == 0):\n",
    "                print(count)\n",
    "            #if (percent > checkLessonPercent and total >= checkWordCount) :\n",
    "            #print(filename,\":\",checkLessonNum,\" total: \",total,\" percent: \",round(percent * 100,2),\"%\")\n",
    "print(\"finished\")"
   ]
  },
  {
   "cell_type": "code",
   "execution_count": 22,
   "metadata": {},
   "outputs": [],
   "source": [
    "checkLessonNum = input(\"For which lesson would you like to view outputs?\\n\")\n",
    "checkLessonNum = int(checkLessonNum)\n",
    "checkWordCount = input(\"What would you like the minimum word count of the song to be?\\n\")\n",
    "checkWordCount = int(checkWordCount)\n",
    "checkLessonPercent = input(\"What minimum percentage would you like to see?\\n\")\n",
    "checkLessonPercent = float(checkLessonPercent) / 100\n",
    "\n",
    "for songName in songList:\n",
    "    song = songList[songName]\n",
    "    percent = song.difficulty[checkLessonNum]\n",
    "    wordCount = song.wordCount\n",
    "    url = songName.replace(\".txt\",\"\")\n",
    "    if (songName.find(\"index.html@\") != -1):\n",
    "        url = url.replace(\"index.html@\",\"https://www.lyrics.co.kr/?\")\n",
    "    else:\n",
    "        url = \"https://colorcodedlyrics.com/\" + url\n",
    "    if (percent >= checkLessonPercent and wordCount >= checkWordCount):\n",
    "        print(url, \"\\n\",\"WORD COUNT: \",wordCount, \"PERCENT KNOWN:\",percent,\"\\n\")\n",
    "print(\"finished\")"
   ]
  },
  {
   "cell_type": "code",
   "execution_count": null,
   "metadata": {},
   "outputs": [],
   "source": []
  }
 ],
 "metadata": {
  "kernelspec": {
   "display_name": "Python 3",
   "language": "python",
   "name": "python3"
  },
  "language_info": {
   "codemirror_mode": {
    "name": "ipython",
    "version": 3
   },
   "file_extension": ".py",
   "mimetype": "text/x-python",
   "name": "python",
   "nbconvert_exporter": "python",
   "pygments_lexer": "ipython3",
   "version": "3.6.5rc1"
  }
 },
 "nbformat": 4,
 "nbformat_minor": 2
}
