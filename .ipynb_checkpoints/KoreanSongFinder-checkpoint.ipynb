{
 "cells": [
  {
   "cell_type": "markdown",
   "metadata": {},
   "source": [
    "<H3>Instructions</H3>\n",
    "You will need to run each code block below in order. Click inside of the cell below these instructions and either click the Run button above or press SHIFT + ENTER on your keyboard. \n",
    "\n",
    "Each time you press it, it will run one cell block of code and move to the next cell. You will need to keep hitting run until you've run all of the cells.\n",
    "\n",
    "If you run into any issues, you can click on the Kernel option above and then Restart & Clear Output to start everything over. You'll need to rerun all of the code cells."
   ]
  },
  {
   "cell_type": "code",
   "execution_count": 1,
   "metadata": {},
   "outputs": [],
   "source": [
    "from pathlib import Path\n",
    "import os"
   ]
  },
  {
   "cell_type": "code",
   "execution_count": 2,
   "metadata": {},
   "outputs": [],
   "source": [
    "def getTagContent(tagName, text):\n",
    "    tagStart = \"<\" + tagName + \">\"\n",
    "    tagEnd = \"</\" + tagName + \">\"\n",
    "    posStart = text.find(tagStart)\n",
    "    if posStart != -1:\n",
    "        posStart += len(tagStart)\n",
    "        posEnd = text.find(tagEnd)\n",
    "        tagContent = text[posStart:posEnd]\n",
    "        return tagContent\n",
    "    else:\n",
    "        return \"\"\n",
    "    \n",
    "class Song:\n",
    "    def __init__(self, fileName, text):\n",
    "        self.fileName = fileName\n",
    "        self.text = text\n",
    "        self.difficulty = {}\n",
    "        self.wordCount = int(getTagContent(\"TOTAL\", text))\n",
    "        self.getDifficulty()\n",
    "        \n",
    "    def getDifficulty(self):\n",
    "        for i in range(1, 9):\n",
    "            countTag = \"PERCENTKNOWN\" + str(i)\n",
    "            self.difficulty[i] = float(getTagContent(countTag, self.text))"
   ]
  },
  {
   "cell_type": "markdown",
   "metadata": {},
   "source": [
    "The code below will import all of the song data. It might take a minute so wait until FINISHED appears below the cell."
   ]
  },
  {
   "cell_type": "code",
   "execution_count": null,
   "metadata": {},
   "outputs": [
    {
     "name": "stdout",
     "output_type": "stream",
     "text": [
      "1000\n",
      "2000\n",
      "3000\n",
      "4000\n",
      "5000\n",
      "6000\n",
      "7000\n",
      "8000\n",
      "9000\n",
      "10000\n",
      "11000\n",
      "12000\n"
     ]
    }
   ],
   "source": [
    "directory = \"lyricsData\"\n",
    "end = ''\n",
    "songList = {}\n",
    "count = 0\n",
    "for fileName in os.listdir(directory):\n",
    "    if fileName.endswith('.txt'):\n",
    "        myFileName = os.path.join(directory, fileName)\n",
    "        with open (myFileName, \"r\",encoding='utf8') as f:\n",
    "            text =  f.read()\n",
    "            songList[fileName] = Song(fileName, text)\n",
    "            count += 1\n",
    "            f.close()\n",
    "            #show how many documents have been processed\n",
    "            if (count % 1000 == 0):\n",
    "                print(count)\n",
    "            #if (percent > checkLessonPercent and total >= checkWordCount) :\n",
    "            #print(filename,\":\",checkLessonNum,\" total: \",total,\" percent: \",round(percent * 100,2),\"%\")\n",
    "print(\"FINISHED\")"
   ]
  },
  {
   "cell_type": "code",
   "execution_count": null,
   "metadata": {},
   "outputs": [],
   "source": [
    "checkLessonNum = input(\"For which lesson would you like to view outputs?\\n\")\n",
    "checkLessonNum = int(checkLessonNum)\n",
    "checkWordCount = input(\"What would you like the minimum word count of the song to be?\\n\")\n",
    "checkWordCount = int(checkWordCount)\n",
    "checkLessonPercent = input(\"What minimum percentage would you like to see?\\n\")\n",
    "checkLessonPercent = float(checkLessonPercent) / 100\n",
    "\n",
    "for songName in songList:\n",
    "    song = songList[songName]\n",
    "    percent = song.difficulty[checkLessonNum]\n",
    "    wordCount = song.wordCount\n",
    "    url = songName.replace(\".txt\",\"\")\n",
    "    if (songName.find(\"index.html@\") != -1):\n",
    "        url = url.replace(\"index.html@\",\"https://www.lyrics.co.kr/?\")\n",
    "    else:\n",
    "        url = \"https://colorcodedlyrics.com/\" + url\n",
    "    if (percent >= checkLessonPercent and wordCount >= checkWordCount):\n",
    "        print(url, \"\\n\",\"WORD COUNT: \",wordCount, \"PERCENT KNOWN:\",percent,\"\\n\")\n",
    "print(\"finished\")"
   ]
  },
  {
   "cell_type": "code",
   "execution_count": null,
   "metadata": {},
   "outputs": [],
   "source": []
  }
 ],
 "metadata": {
  "kernelspec": {
   "display_name": "Python 3",
   "language": "python",
   "name": "python3"
  },
  "language_info": {
   "codemirror_mode": {
    "name": "ipython",
    "version": 3
   },
   "file_extension": ".py",
   "mimetype": "text/x-python",
   "name": "python",
   "nbconvert_exporter": "python",
   "pygments_lexer": "ipython3",
   "version": "3.6.5rc1"
  }
 },
 "nbformat": 4,
 "nbformat_minor": 2
}
