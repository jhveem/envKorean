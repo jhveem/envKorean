{
 "cells": [
  {
   "cell_type": "markdown",
   "metadata": {},
   "source": [
    "<H3>Instructions</H3>\n",
    "You will need to run each code block below in order. Click on Cell from the menu at the top of the page and then Run All.\n",
    "\n",
    "If you run into any issues, you can click on the Kernel option above and then Restart & Clear Output to start everything over. You'll need to rerun all of the code cells."
   ]
  },
  {
   "cell_type": "code",
   "execution_count": 1,
   "metadata": {},
   "outputs": [],
   "source": [
    "from pathlib import Path\n",
    "import os\n",
    "import pandas as pd\n",
    "import sys"
   ]
  },
  {
   "cell_type": "code",
   "execution_count": 2,
   "metadata": {},
   "outputs": [],
   "source": [
    "#extract the contents of a tag by its name\n",
    "def getTagContent(tagName, text):\n",
    "    tagStart = \"<\" + tagName + \">\"\n",
    "    tagEnd = \"</\" + tagName + \">\"\n",
    "    posStart = text.find(tagStart)\n",
    "    if posStart != -1:\n",
    "        posStart += len(tagStart)\n",
    "        posEnd = text.find(tagEnd)\n",
    "        tagContent = text[posStart:posEnd]\n",
    "        return tagContent\n",
    "    else:\n",
    "        return \"\"\n",
    "\n",
    "#Class set to store song data and process it\n",
    "class Song:\n",
    "    def __init__(self, fileName, text, source):\n",
    "        self.fileName = fileName\n",
    "        self.text = text\n",
    "        self.difficulty = {}\n",
    "        self.wordCount = int(getTagContent(\"TOTAL\", text))\n",
    "        self.title = getTagContent(\"TITLE\", text)\n",
    "        self.artist = getTagContent(\"ARTIST\", text)\n",
    "        self.getDifficulty()\n",
    "        self.source = source\n",
    "        \n",
    "    def getDifficulty(self):\n",
    "        for i in range(1, 9):\n",
    "            countTag = \"PERCENTKNOWN\" + str(i)\n",
    "            self.difficulty[i] = float(getTagContent(countTag, self.text))"
   ]
  },
  {
   "cell_type": "code",
   "execution_count": 3,
   "metadata": {},
   "outputs": [
    {
     "name": "stdout",
     "output_type": "stream",
     "text": [
      "SKIP? enter s to skips\n",
      "\n",
      " finished  colorCoded \n",
      "\n",
      "SKIP? enter s to skips\n",
      "\n",
      " finished  lyricsKR0-100k \n",
      "\n",
      "SKIP? enter s to skip\n",
      "lyricsKR100k-200k\n",
      " 99% processed\n",
      " \n",
      " processing\n",
      " 99% processed\n",
      " finished  lyricsKR100k-200k \n",
      "\n",
      "FINISHED\n"
     ]
    }
   ],
   "source": [
    "#directory where the processed lyrics are at\n",
    "directory = \"C:\\\\Users\\\\maste\\\\Desktop\\\\processedLyrics\"\n",
    "skip = ''\n",
    "for folder in os.listdir(directory):\n",
    "    if (skip != 'a'):\n",
    "        skip = input(\"SKIP \"+folder+\"? enter s to skip\")\n",
    "    if (skip != 's'):\n",
    "        #create an empty list for this dataset\n",
    "        songList = {}\n",
    "        #set up pandas df\n",
    "        df = pd.DataFrame(columns = ['title','word count','l1','l2','l3','l4','l5','l6','l7','l8'])\n",
    "        count = 0\n",
    "        print(folder)\n",
    "        numFiles = len(os.listdir(directory+\"\\\\\"+folder))\n",
    "        for fileName in os.listdir(directory+\"\\\\\"+folder):\n",
    "            if fileName.endswith('.txt'):\n",
    "                myFileName = os.path.join(directory+\"\\\\\"+folder, fileName)\n",
    "                with open (myFileName, \"r\",encoding='utf8') as f:\n",
    "                    text =  f.read()\n",
    "                    songList[fileName] = Song(fileName, text, folder)\n",
    "                    count += 1\n",
    "                    f.close()\n",
    "                    #show how many documents have been processed\n",
    "                    if (count % 100 == 0):\n",
    "                        sys.stdout.write(\"\\r %i%% imported\" % (count/numFiles * 100))\n",
    "                        sys.stdout.flush()\n",
    "        count = 0\n",
    "        print(\"\\n\",\"\\n\",\"processing\")\n",
    "        for songName in songList:\n",
    "            song = songList[songName]\n",
    "            wordCount = song.wordCount\n",
    "            url = songName.replace(\".txt\",\"\")\n",
    "            if (songName.find(\"index.html@\") != -1):\n",
    "                url = url.replace(\"index.html@\",\"https://www.lyrics.co.kr/?\")\n",
    "            elif (songName.find(\"lyricsKr\") != -1):\n",
    "                url = url.replace(\"lyricsKr\",\"https://www.lyrics.co.kr/?p=\")\n",
    "            else:\n",
    "                url = \"https://colorcodedlyrics.com/\" + url\n",
    "            df.loc[url] = [song.title,wordCount,song.difficulty[1],song.difficulty[2],song.difficulty[3],song.difficulty[4],song.difficulty[5],song.difficulty[6],song.difficulty[7],song.difficulty[8]]\n",
    "            count += 1\n",
    "            if (count % 100 == 0):\n",
    "                sys.stdout.write(\"\\r %i%% processed\" % (count/numFiles * 100))\n",
    "                sys.stdout.flush()\n",
    "        df.to_csv(path_or_buf='C:\\\\Users\\\\maste\\\\Desktop\\\\envKorean\\\\lyricsData\\\\'+folder+'_out.csv', encoding='utf-8')\n",
    "        print('\\n','finished ', folder,'\\n')\n",
    "print(\"FINISHED\")"
   ]
  },
  {
   "cell_type": "code",
   "execution_count": null,
   "metadata": {},
   "outputs": [],
   "source": []
  }
 ],
 "metadata": {
  "kernelspec": {
   "display_name": "Python 3",
   "language": "python",
   "name": "python3"
  },
  "language_info": {
   "codemirror_mode": {
    "name": "ipython",
    "version": 3
   },
   "file_extension": ".py",
   "mimetype": "text/x-python",
   "name": "python",
   "nbconvert_exporter": "python",
   "pygments_lexer": "ipython3",
   "version": "3.6.5rc1"
  }
 },
 "nbformat": 4,
 "nbformat_minor": 2
}
