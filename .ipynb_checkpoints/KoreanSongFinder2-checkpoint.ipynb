{
 "cells": [
  {
   "cell_type": "markdown",
   "metadata": {},
   "source": [
    "<h3>INSTRUCTIONS</h3>\n",
    "<p>Run all of the cells by going to the menu above titled Cell then Run All</p>\n",
    "<p>Cell->Run All</p>"
   ]
  },
  {
   "cell_type": "code",
   "execution_count": 1,
   "metadata": {},
   "outputs": [],
   "source": [
    "from pathlib import Path\n",
    "import os\n",
    "import pandas as pd\n",
    "import math\n",
    "from IPython.core.display import display, HTML\n",
    "from IPython.display import clear_output\n",
    "import ipywidgets as widgets\n",
    "from songScripts import printSongs\n",
    "\n",
    "directory = 'lyricsData'\n",
    "df = pd.DataFrame()\n",
    "for csv in os.listdir(directory):\n",
    "    ext = csv[-4:] \n",
    "    if (ext == \".csv\"):\n",
    "        data = pd.read_csv(os.path.join(directory,csv), index_col=0, encoding='utf-8')\n",
    "        df = df.append(data)\n",
    "mask = df['word count'] > 50\n",
    "df = df[mask]\n",
    "df.drop_duplicates(inplace=True, subset=['word count','l1','l2','l3','l4','l5','l6','l7','l8'])"
   ]
  },
  {
   "cell_type": "code",
   "execution_count": 2,
   "metadata": {},
   "outputs": [
    {
     "name": "stdout",
     "output_type": "stream",
     "text": [
      "lesson 1 \t 1ST: 42.07% \t 10TH: 33.12% \t 100TH: 27.72%\n",
      "lesson 2 \t 1ST: 50.0% \t 10TH: 43.85% \t 100TH: 36.34%\n",
      "lesson 3 \t 1ST: 55.77% \t 10TH: 50.17% \t 100TH: 43.71%\n",
      "lesson 4 \t 1ST: 57.97% \t 10TH: 55.23% \t 100TH: 48.28%\n",
      "lesson 5 \t 1ST: 65.88% \t 10TH: 57.82% \t 100TH: 51.03%\n",
      "lesson 6 \t 1ST: 80.62% \t 10TH: 61.43% \t 100TH: 56.06%\n",
      "lesson 7 \t 1ST: 80.62% \t 10TH: 62.39% \t 100TH: 57.49%\n",
      "lesson 8 \t 1ST: 82.5% \t 10TH: 64.9% \t 100TH: 58.79%\n"
     ]
    }
   ],
   "source": [
    "for i in range(1,9):\n",
    "    print('lesson',i,\"\\t 1ST:\",str(round(df['l'+str(i)].max() * 100,2))+\"%\",\"\\t\",\"10TH:\",str(round(df['l'+str(i)].nlargest(10).iloc[-1] * 100,2))+\"%\",\"\\t\",\"100TH:\",str(round(df['l'+str(i)].nlargest(100).iloc[-1] * 100,2))+\"%\")"
   ]
  },
  {
   "cell_type": "code",
   "execution_count": 3,
   "metadata": {
    "scrolled": false
   },
   "outputs": [
    {
     "data": {
      "application/vnd.jupyter.widget-view+json": {
       "model_id": "7e48aca42b1e4ba69deb6636d43f758b",
       "version_major": 2,
       "version_minor": 0
      },
      "text/plain": [
       "Dropdown(options=('1', '2', '3', '4', '5', '6', '7', '8'), value='1')"
      ]
     },
     "metadata": {},
     "output_type": "display_data"
    },
    {
     "data": {
      "text/html": [
       "<br><a href='https://www.lyrics.co.kr/?p=27769' target='_blank'>Untitled Song</a><p>KNOWN:42.07%</p><p>WORD COUNT:164</p><br><a href='https://www.lyrics.co.kr/?p=65608' target='_blank'>Untitled Song</a><p>KNOWN:41.07%</p><p>WORD COUNT:168</p><br><a href='https://www.lyrics.co.kr/?p=152585' target='_blank'> 윤도현밴드+나는나비+mr</a><p>KNOWN:40.0%</p><p>WORD COUNT:85</p><br><a href='https://www.lyrics.co.kr/?p=42633' target='_blank'>Untitled Song</a><p>KNOWN:37.5%</p><p>WORD COUNT:216</p><br><a href='https://www.lyrics.co.kr/?p=69872' target='_blank'>Untitled Song</a><p>KNOWN:34.31%</p><p>WORD COUNT:102</p><br><a href='https://www.lyrics.co.kr/?p=161668' target='_blank'> 니가 뭘 알아</a><p>KNOWN:33.88%</p><p>WORD COUNT:304</p><br><a href='https://www.lyrics.co.kr/?p=158195' target='_blank'> 청춘아- 현숙 (2013,현숙) 2013-11-25 Full HD</a><p>KNOWN:33.59%</p><p>WORD COUNT:259</p><br><a href='https://www.lyrics.co.kr/?p=199746' target='_blank'> 세쌍둥이송 (KBS 해피선데이 - 슈퍼맨이 돌아왔다 삽입곡)</a><p>KNOWN:33.54%</p><p>WORD COUNT:158</p><br><a href='https://www.lyrics.co.kr/?p=4806' target='_blank'>Untitled Song</a><p>KNOWN:33.51%</p><p>WORD COUNT:188</p><br><a href='https://www.lyrics.co.kr/?p=111595' target='_blank'> 세쌍둥이송</a><p>KNOWN:33.12%</p><p>WORD COUNT:157</p><br><a href='https://www.lyrics.co.kr/?p=157436' target='_blank'> 세쌍둥이송 (Triplets Song)</a><p>KNOWN:32.7%</p><p>WORD COUNT:159</p><br><a href='https://www.lyrics.co.kr/?p=134879' target='_blank'> j rabbit - amorejo</a><p>KNOWN:32.51%</p><p>WORD COUNT:243</p><br><a href='https://www.lyrics.co.kr/?p=35327' target='_blank'>Untitled Song</a><p>KNOWN:32.1%</p><p>WORD COUNT:243</p><br><a href='https://www.lyrics.co.kr/?p=192257' target='_blank'> 미안해, 고마워, 사랑해</a><p>KNOWN:32.07%</p><p>WORD COUNT:184</p><br><a href='https://colorcodedlyrics.com/u-kiss-give-it-to-me-color-coded-lyrics' target='_blank'>Give It To Me</a><p>KNOWN:31.84%</p><p>WORD COUNT:201</p><br><a href='https://www.lyrics.co.kr/?p=34703' target='_blank'>Untitled Song</a><p>KNOWN:31.52%</p><p>WORD COUNT:441</p><br><a href='https://www.lyrics.co.kr/?p=26218' target='_blank'>Untitled Song</a><p>KNOWN:31.41%</p><p>WORD COUNT:156</p><br><a href='https://www.lyrics.co.kr/?p=98085' target='_blank'> 이름이 뭐예요 (What's Your Name) BY FUJIFILM</a><p>KNOWN:31.38%</p><p>WORD COUNT:443</p><br><a href='https://www.lyrics.co.kr/?p=103791' target='_blank'> Whats Your Name(이름이 뭐예요?)</a><p>KNOWN:31.38%</p><p>WORD COUNT:443</p><br><a href='https://www.lyrics.co.kr/?p=37142' target='_blank'>Untitled Song</a><p>KNOWN:31.36%</p><p>WORD COUNT:220</p><br><a href='https://www.lyrics.co.kr/?p=168472' target='_blank'> Henry (헨리) - 1-4-3 (I Love You) [Mini Album - Trap]</a><p>KNOWN:31.29%</p><p>WORD COUNT:294</p><br><a href='https://www.lyrics.co.kr/?p=35538' target='_blank'>Untitled Song</a><p>KNOWN:31.29%</p><p>WORD COUNT:294</p><br><a href='https://www.lyrics.co.kr/?p=7064' target='_blank'>Untitled Song</a><p>KNOWN:30.66%</p><p>WORD COUNT:137</p><br><a href='https://www.lyrics.co.kr/?p=104200' target='_blank'> 이름이 뭐예요? - 4minute</a><p>KNOWN:30.64%</p><p>WORD COUNT:359</p><br><a href='https://www.lyrics.co.kr/?p=6603' target='_blank'>Untitled Song</a><p>KNOWN:30.64%</p><p>WORD COUNT:359</p>"
      ],
      "text/plain": [
       "<IPython.core.display.HTML object>"
      ]
     },
     "metadata": {},
     "output_type": "display_data"
    }
   ],
   "source": [
    "w = widgets.Dropdown(options=['1','2','3','4','5','6','7','8'], value='1')\n",
    "\n",
    "def on_change(change):\n",
    "    if change['type'] == 'change' and change['name'] == 'value':\n",
    "        clear_output()\n",
    "        display(w)\n",
    "        html = printSongs(df, change['new'])\n",
    "        display(HTML(html))\n",
    "w.observe(on_change)\n",
    "display(w)\n",
    "html = printSongs(df, 1)\n",
    "display(HTML(html))"
   ]
  }
 ],
 "metadata": {
  "kernelspec": {
   "display_name": "Python 3",
   "language": "python",
   "name": "python3"
  },
  "language_info": {
   "codemirror_mode": {
    "name": "ipython",
    "version": 3
   },
   "file_extension": ".py",
   "mimetype": "text/x-python",
   "name": "python",
   "nbconvert_exporter": "python",
   "pygments_lexer": "ipython3",
   "version": "3.6.5rc1"
  }
 },
 "nbformat": 4,
 "nbformat_minor": 2
}
