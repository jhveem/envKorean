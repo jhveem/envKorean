{
 "cells": [
  {
   "cell_type": "code",
   "execution_count": 1,
   "metadata": {},
   "outputs": [],
   "source": [
    "from pathlib import Path\n",
    "import os\n",
    "import pandas as pd\n",
    "import math\n",
    "\n",
    "df = pd.read_csv('out.csv', index_col=0)\n",
    "df.drop_duplicates(inplace=True)"
   ]
  },
  {
   "cell_type": "code",
   "execution_count": 11,
   "metadata": {},
   "outputs": [
    {
     "name": "stdout",
     "output_type": "stream",
     "text": [
      "For which lesson would you like to view outputs?\n",
      "1\n",
      "What would you like the minimum word count of the song to be?\n",
      "50\n",
      "What minimum percentage would you like to see?\n",
      "30\n",
      "\n",
      "https://www.lyrics.co.kr/?p=27769\n",
      "KNOWN: 42.07\n",
      "\n",
      "https://www.lyrics.co.kr/?p=65608\n",
      "KNOWN: 41.07\n",
      "\n",
      "https://www.lyrics.co.kr/?p=42633\n",
      "KNOWN: 37.5\n",
      "\n",
      "https://www.lyrics.co.kr/?p=69872\n",
      "KNOWN: 34.31\n",
      "\n",
      "https://www.lyrics.co.kr/?p=4806\n",
      "KNOWN: 33.51\n",
      "\n",
      "https://www.lyrics.co.kr/?p=96406\n",
      "KNOWN: 33.12\n",
      "\n",
      "https://www.lyrics.co.kr/?p=35327\n",
      "KNOWN: 32.1\n",
      "\n",
      "https://colorcodedlyrics.com/u-kiss-give-it-to-me-color-coded-lyrics\n",
      "KNOWN: 31.84\n",
      "\n",
      "https://www.lyrics.co.kr/?p=34703\n",
      "KNOWN: 31.52\n",
      "\n",
      "https://www.lyrics.co.kr/?p=26218\n",
      "KNOWN: 31.41\n",
      "\n",
      "https://www.lyrics.co.kr/?p=37142\n",
      "KNOWN: 31.36\n",
      "\n",
      "https://www.lyrics.co.kr/?p=35538\n",
      "KNOWN: 31.29\n",
      "\n",
      "https://www.lyrics.co.kr/?p=7064\n",
      "KNOWN: 30.66\n",
      "\n",
      "https://www.lyrics.co.kr/?p=6603\n",
      "KNOWN: 30.64\n",
      "\n",
      "https://colorcodedlyrics.com/henry-henli-1-4-3-i-love-you\n",
      "KNOWN: 30.56\n",
      "\n",
      "https://www.lyrics.co.kr/?p=68254\n",
      "KNOWN: 30.38\n",
      "\n",
      "https://www.lyrics.co.kr/?p=30867\n",
      "KNOWN: 30.18\n",
      "\n",
      "https://www.lyrics.co.kr/?p=11984\n",
      "KNOWN: 30.17\n",
      "\n",
      "https://www.lyrics.co.kr/?p=10631\n",
      "KNOWN: 30.07\n"
     ]
    }
   ],
   "source": [
    "checkLessonNum = input(\"For which lesson would you like to view outputs?\\n\")\n",
    "checkLessonNum = int(checkLessonNum)\n",
    "checkWordCount = input(\"What would you like the minimum word count of the song to be?\\n\")\n",
    "checkWordCount = int(checkWordCount)\n",
    "checkLessonPercent = input(\"What minimum percentage would you like to see?\\n\")\n",
    "checkLessonPercent = float(checkLessonPercent) / 100\n",
    "\n",
    "lessonString = 'l' + str(checkLessonNum)\n",
    "m1 = df[lessonString] > checkLessonPercent\n",
    "m2 = df['word count'] > checkWordCount\n",
    "results = df.loc[m1 & m2, ('word count',lessonString)]\n",
    "results = results.sort_values([lessonString, 'word count'], ascending = False)\n",
    "for index, row in results.iterrows():\n",
    "    print('')\n",
    "    print(index)\n",
    "    print(\"KNOWN:\", round(row[lessonString] * 100, 2))"
   ]
  },
  {
   "cell_type": "code",
   "execution_count": null,
   "metadata": {},
   "outputs": [],
   "source": []
  }
 ],
 "metadata": {
  "kernelspec": {
   "display_name": "Python 3",
   "language": "python",
   "name": "python3"
  },
  "language_info": {
   "codemirror_mode": {
    "name": "ipython",
    "version": 3
   },
   "file_extension": ".py",
   "mimetype": "text/x-python",
   "name": "python",
   "nbconvert_exporter": "python",
   "pygments_lexer": "ipython3",
   "version": "3.6.5rc1"
  }
 },
 "nbformat": 4,
 "nbformat_minor": 2
}
