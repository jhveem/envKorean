{
 "cells": [
  {
   "cell_type": "code",
   "execution_count": 146,
   "metadata": {},
   "outputs": [],
   "source": [
    "from pathlib import Path\n",
    "import os\n",
    "import pandas as pd\n",
    "import math\n",
    "import ipywidgets as widgets\n",
    "from traitlets import Unicode, Int, validate\n",
    "from IPython.core.display import display, HTML\n",
    "from IPython.display import clear_output\n",
    "\n",
    "directory = 'lyricsData'\n",
    "df = pd.DataFrame()\n",
    "for csv in os.listdir(directory):\n",
    "    ext = csv[-4:] \n",
    "    if (ext == \".csv\"):\n",
    "        data = pd.read_csv(os.path.join(directory,csv), index_col=0, encoding='utf-8')\n",
    "        df = df.append(data)\n",
    "mask = df['word count'] > 50\n",
    "df = df[mask]\n",
    "df.drop_duplicates(inplace=True, subset=['word count','l1','l2','l3','l4','l5','l6','l7','l8'])"
   ]
  },
  {
   "cell_type": "code",
   "execution_count": 147,
   "metadata": {},
   "outputs": [
    {
     "name": "stdout",
     "output_type": "stream",
     "text": [
      "lesson 1 \t 1ST: 42.07% \t 10TH: 33.12% \t 100TH: 27.72%\n",
      "lesson 2 \t 1ST: 50.0% \t 10TH: 43.85% \t 100TH: 36.34%\n",
      "lesson 3 \t 1ST: 55.77% \t 10TH: 50.17% \t 100TH: 43.71%\n",
      "lesson 4 \t 1ST: 57.97% \t 10TH: 55.23% \t 100TH: 48.28%\n",
      "lesson 5 \t 1ST: 65.88% \t 10TH: 57.82% \t 100TH: 51.03%\n",
      "lesson 6 \t 1ST: 80.62% \t 10TH: 61.43% \t 100TH: 56.06%\n",
      "lesson 7 \t 1ST: 80.62% \t 10TH: 62.39% \t 100TH: 57.49%\n",
      "lesson 8 \t 1ST: 82.5% \t 10TH: 64.9% \t 100TH: 58.79%\n"
     ]
    }
   ],
   "source": [
    "for i in range(1,9):\n",
    "    print('lesson',i,\"\\t 1ST:\",str(round(df['l'+str(i)].max() * 100,2))+\"%\",\"\\t\",\"10TH:\",str(round(df['l'+str(i)].nlargest(10).iloc[-1] * 100,2))+\"%\",\"\\t\",\"100TH:\",str(round(df['l'+str(i)].nlargest(100).iloc[-1] * 100,2))+\"%\")"
   ]
  },
  {
   "cell_type": "code",
   "execution_count": 153,
   "metadata": {},
   "outputs": [],
   "source": [
    "def printSongs(lesson):\n",
    "    #just set this manually to 50 since that's probably a good number to start with\n",
    "    lessonString = 'l' + str(lesson)\n",
    "    results = df.loc[m1, ('title','word count',lessonString)]\n",
    "    results = results.sort_values([lessonString, 'word count'], ascending = False)\n",
    "    count = 0\n",
    "    html = ''\n",
    "    for index, row in results.iterrows():\n",
    "        #print(row[lessonString])\n",
    "        title = str(row['title'])\n",
    "        if title == 'nan':\n",
    "            title = \"Untitled Song\"\n",
    "        html += \"<br><a href='\"+str(index)+ \"' target='_blank'>\" + title + \"</a>\"\n",
    "        html += \"<p>\"+ \"KNOWN:\" + str(round(row[lessonString] * 100, 2))+\"%</p>\"\n",
    "        html += \"<p> WORD COUNT:\" + str(row['word count']) + \"</p>\"\n",
    "        #print('')\n",
    "        #print(index)\n",
    "        #print(\"KNOWN:\", str(round(row[lessonString] * 100, 2))+\"%\")\n",
    "        count += 1\n",
    "        if (count == 25):\n",
    "            break\n",
    "    html = '<p> '+html+' </p>'\n",
    "    display(HTML(html))"
   ]
  },
  {
   "cell_type": "code",
   "execution_count": 156,
   "metadata": {
    "scrolled": false
   },
   "outputs": [
    {
     "data": {
      "application/vnd.jupyter.widget-view+json": {
       "model_id": "c542a27e7a594c0b84fc9c557a7457cb",
       "version_major": 2,
       "version_minor": 0
      },
      "text/plain": [
       "Dropdown(index=3, options=('1', '2', '3', '4', '5', '6', '7', '8'), value='4')"
      ]
     },
     "metadata": {},
     "output_type": "display_data"
    },
    {
     "data": {
      "text/html": [
       "<p> <br><a href='https://www.lyrics.co.kr/?p=99148' target='_blank'> 안만나</a><p>KNOWN:57.97%</p><p> WORD COUNT:345</p><br><a href='https://www.lyrics.co.kr/?p=102205' target='_blank'> Riot!</a><p>KNOWN:57.82%</p><p> WORD COUNT:275</p><br><a href='https://www.lyrics.co.kr/?p=194339' target='_blank'> 지성 - Show Me Your Panty</a><p>KNOWN:56.73%</p><p> WORD COUNT:208</p><br><a href='https://www.lyrics.co.kr/?p=196159' target='_blank'> 너는 자고</a><p>KNOWN:56.61%</p><p> WORD COUNT:189</p><br><a href='https://www.lyrics.co.kr/?p=4807' target='_blank'>Untitled Song</a><p>KNOWN:56.13%</p><p> WORD COUNT:212</p><br><a href='https://www.lyrics.co.kr/?p=111583' target='_blank'> NC.A_I_m_Different_</a><p>KNOWN:55.43%</p><p> WORD COUNT:350</p><br><a href='https://www.lyrics.co.kr/?p=12767' target='_blank'>Untitled Song</a><p>KNOWN:55.43%</p><p> WORD COUNT:350</p><br><a href='https://www.lyrics.co.kr/?p=158325' target='_blank'> 유령의</a><p>KNOWN:55.41%</p><p> WORD COUNT:148</p><br><a href='https://www.lyrics.co.kr/?p=44878' target='_blank'>Untitled Song</a><p>KNOWN:55.29%</p><p> WORD COUNT:85</p><br><a href='https://www.lyrics.co.kr/?p=130153' target='_blank'> I'm A Little Different</a><p>KNOWN:55.23%</p><p> WORD COUNT:344</p><br><a href='https://www.lyrics.co.kr/?p=72815' target='_blank'>Untitled Song</a><p>KNOWN:55.23%</p><p> WORD COUNT:344</p><br><a href='https://colorcodedlyrics.com/nc-a-i-m-different-nan-jom-dalla' target='_blank'>난 좀 달라</a><p>KNOWN:55.11%</p><p> WORD COUNT:352</p><br><a href='https://colorcodedlyrics.com/boyz-got-isseo' target='_blank'>있어</a><p>KNOWN:55.11%</p><p> WORD COUNT:323</p><br><a href='https://www.lyrics.co.kr/?p=166647' target='_blank'> 한껏 조여진</a><p>KNOWN:55.07%</p><p> WORD COUNT:69</p><br><a href='https://www.lyrics.co.kr/?p=39892' target='_blank'>Untitled Song</a><p>KNOWN:55.0%</p><p> WORD COUNT:80</p><br><a href='https://www.lyrics.co.kr/?p=187174' target='_blank'> 이수진-님이좋아</a><p>KNOWN:54.48%</p><p> WORD COUNT:145</p><br><a href='https://www.lyrics.co.kr/?p=41854' target='_blank'>Untitled Song</a><p>KNOWN:53.99%</p><p> WORD COUNT:326</p><br><a href='https://www.lyrics.co.kr/?p=71138' target='_blank'>Untitled Song</a><p>KNOWN:53.57%</p><p> WORD COUNT:56</p><br><a href='https://www.lyrics.co.kr/?p=110337' target='_blank'> 사나이 (Inst.) - Daybreak</a><p>KNOWN:53.57%</p><p> WORD COUNT:280</p><br><a href='https://www.lyrics.co.kr/?p=19676' target='_blank'>Untitled Song</a><p>KNOWN:53.41%</p><p> WORD COUNT:264</p><br><a href='https://www.lyrics.co.kr/?p=15653' target='_blank'>Untitled Song</a><p>KNOWN:53.33%</p><p> WORD COUNT:150</p><br><a href='https://www.lyrics.co.kr/?p=28106' target='_blank'>Untitled Song</a><p>KNOWN:53.11%</p><p> WORD COUNT:273</p><br><a href='https://www.lyrics.co.kr/?p=78859' target='_blank'>Untitled Song</a><p>KNOWN:53.01%</p><p> WORD COUNT:183</p><br><a href='https://www.lyrics.co.kr/?p=115610' target='_blank'> 김혜연유일한 사람</a><p>KNOWN:53.01%</p><p> WORD COUNT:183</p><br><a href='https://www.lyrics.co.kr/?p=171376' target='_blank'> 내가 제일 잘 나가 - 2NE1</a><p>KNOWN:53.0%</p><p> WORD COUNT:300</p> </p>"
      ],
      "text/plain": [
       "<IPython.core.display.HTML object>"
      ]
     },
     "metadata": {},
     "output_type": "display_data"
    }
   ],
   "source": [
    "w = widgets.Dropdown(options=['1','2','3','4','5','6','7','8'], value='1')\n",
    "\n",
    "def on_change(change):\n",
    "    if change['type'] == 'change' and change['name'] == 'value':\n",
    "        clear_output()\n",
    "        display(w)\n",
    "        printSongs(change['new'])\n",
    "w.observe(on_change)\n",
    "display(w)\n",
    "printSongs(1)"
   ]
  },
  {
   "cell_type": "code",
   "execution_count": null,
   "metadata": {},
   "outputs": [],
   "source": []
  }
 ],
 "metadata": {
  "kernelspec": {
   "display_name": "Python 3",
   "language": "python",
   "name": "python3"
  },
  "language_info": {
   "codemirror_mode": {
    "name": "ipython",
    "version": 3
   },
   "file_extension": ".py",
   "mimetype": "text/x-python",
   "name": "python",
   "nbconvert_exporter": "python",
   "pygments_lexer": "ipython3",
   "version": "3.6.5rc1"
  }
 },
 "nbformat": 4,
 "nbformat_minor": 2
}
