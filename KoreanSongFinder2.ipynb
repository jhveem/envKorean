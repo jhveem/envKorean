{
 "cells": [
  {
   "cell_type": "code",
   "execution_count": 1,
   "metadata": {},
   "outputs": [
    {
     "name": "stdout",
     "output_type": "stream",
     "text": [
      "colorCoded_out.csv\n",
      "6117\n",
      "lyricsKR0-100k_out.csv\n",
      "60852\n",
      "66969\n"
     ]
    }
   ],
   "source": [
    "from pathlib import Path\n",
    "import os\n",
    "import pandas as pd\n",
    "import math\n",
    "\n",
    "directory = 'lyricsData'\n",
    "df = pd.DataFrame()\n",
    "for csv in os.listdir(directory):\n",
    "    print(csv)\n",
    "    data = pd.read_csv('lyricsData\\\\'+csv, index_col=0)\n",
    "    if len(df.index) == 0:\n",
    "        df = data\n",
    "    else:\n",
    "        df = pd.concat([df, data])\n",
    "    print(len(data.index))\n",
    "print(len(df.index))\n",
    "#df.drop_duplicates(inplace=True)"
   ]
  },
  {
   "cell_type": "code",
   "execution_count": 3,
   "metadata": {},
   "outputs": [
    {
     "name": "stdout",
     "output_type": "stream",
     "text": [
      "For which lesson would you like to view outputs?\n",
      "1\n",
      "\n",
      "index.html@p=27769.txt\n",
      "KNOWN: 42.07\n",
      "\n",
      "index.html@p=95958.txt\n",
      "KNOWN: 42.07\n",
      "\n",
      "index.html@p=65608.txt\n",
      "KNOWN: 41.07\n",
      "\n",
      "index.html@p=42633.txt\n",
      "KNOWN: 37.5\n",
      "\n",
      "index.html@p=69872.txt\n",
      "KNOWN: 34.31\n",
      "\n",
      "index.html@p=4806.txt\n",
      "KNOWN: 33.51\n",
      "\n",
      "index.html@p=35327.txt\n",
      "KNOWN: 32.1\n",
      "\n",
      "index.html@p=40615.txt\n",
      "KNOWN: 32.1\n",
      "\n",
      "u-kiss-give-it-to-me-color-coded-lyrics.txt\n",
      "KNOWN: 31.84\n",
      "\n",
      "index.html@p=34703.txt\n",
      "KNOWN: 31.52\n",
      "\n",
      "index.html@p=35321.txt\n",
      "KNOWN: 31.52\n",
      "\n",
      "index.html@p=42215.txt\n",
      "KNOWN: 31.52\n",
      "\n",
      "index.html@p=52584.txt\n",
      "KNOWN: 31.52\n",
      "\n",
      "index.html@p=58151.txt\n",
      "KNOWN: 31.52\n",
      "\n",
      "index.html@p=26218.txt\n",
      "KNOWN: 31.41\n",
      "\n",
      "lyricsKr98085.txt\n",
      "KNOWN: 31.38\n",
      "\n",
      "index.html@p=37142.txt\n",
      "KNOWN: 31.36\n",
      "\n",
      "index.html@p=54318.txt\n",
      "KNOWN: 31.36\n",
      "\n",
      "index.html@p=89813.txt\n",
      "KNOWN: 31.36\n",
      "\n",
      "index.html@p=95211.txt\n",
      "KNOWN: 31.36\n",
      "\n",
      "index.html@p=35538.txt\n",
      "KNOWN: 31.29\n",
      "\n",
      "index.html@p=7064.txt\n",
      "KNOWN: 30.66\n",
      "\n",
      "index.html@p=6603.txt\n",
      "KNOWN: 30.64\n",
      "\n",
      "index.html@p=7635.txt\n",
      "KNOWN: 30.64\n",
      "\n",
      "index.html@p=79922.txt\n",
      "KNOWN: 30.64\n"
     ]
    }
   ],
   "source": [
    "checkLessonNum = input(\"For which lesson would you like to view outputs?\\n\")\n",
    "checkLessonNum = int(checkLessonNum)\n",
    "#just set this manually to 50 since that's probablya  good number to start with\n",
    "checkWordCount = 50\n",
    "\n",
    "lessonString = 'l' + str(checkLessonNum)\n",
    "m1 = df['word count'] > checkWordCount\n",
    "results = df.loc[m1, ('word count',lessonString)]\n",
    "results = results.sort_values([lessonString, 'word count'], ascending = False)\n",
    "count = 0\n",
    "for index, row in results.iterrows():\n",
    "    print('')\n",
    "    print(index)\n",
    "    print(\"KNOWN:\", round(row[lessonString] * 100, 2))\n",
    "    count += 1\n",
    "    if (count == 25):\n",
    "        break"
   ]
  },
  {
   "cell_type": "code",
   "execution_count": null,
   "metadata": {},
   "outputs": [],
   "source": []
  }
 ],
 "metadata": {
  "kernelspec": {
   "display_name": "Python 3",
   "language": "python",
   "name": "python3"
  },
  "language_info": {
   "codemirror_mode": {
    "name": "ipython",
    "version": 3
   },
   "file_extension": ".py",
   "mimetype": "text/x-python",
   "name": "python",
   "nbconvert_exporter": "python",
   "pygments_lexer": "ipython3",
   "version": "3.6.5rc1"
  }
 },
 "nbformat": 4,
 "nbformat_minor": 2
}
