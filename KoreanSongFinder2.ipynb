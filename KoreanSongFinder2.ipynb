{
 "cells": [
  {
   "cell_type": "code",
   "execution_count": 8,
   "metadata": {},
   "outputs": [
    {
     "name": "stdout",
     "output_type": "stream",
     "text": [
      "colorCoded_out.csv\n",
      "lyricsKR0-100k_out.csv\n",
      "66969\n",
      "42257\n"
     ]
    }
   ],
   "source": [
    "from pathlib import Path\n",
    "import os\n",
    "import pandas as pd\n",
    "import math\n",
    "\n",
    "directory = 'lyricsData'\n",
    "df = pd.DataFrame()\n",
    "for csv in os.listdir(directory):\n",
    "    print(csv)\n",
    "    data = pd.read_csv('lyricsData\\\\'+csv, index_col=0)\n",
    "    if len(df.index) == 0:\n",
    "        df = data\n",
    "    else:\n",
    "        df = pd.concat([df, data])\n",
    "print(len(df.index))\n",
    "df.drop_duplicates(inplace=True)\n",
    "print(len(df.index))"
   ]
  },
  {
   "cell_type": "code",
   "execution_count": 10,
   "metadata": {},
   "outputs": [
    {
     "name": "stdout",
     "output_type": "stream",
     "text": [
      "For which lesson would you like to view outputs?\n",
      "4\n",
      "\n",
      "https://www.lyrics.co.kr/?p=99148\n",
      "KNOWN: 57.97\n",
      "\n",
      "https://www.lyrics.co.kr/?p=4807\n",
      "KNOWN: 56.13\n",
      "\n",
      "https://www.lyrics.co.kr/?p=12767\n",
      "KNOWN: 55.43\n",
      "\n",
      "https://www.lyrics.co.kr/?p=44878\n",
      "KNOWN: 55.29\n",
      "\n",
      "https://www.lyrics.co.kr/?p=72815\n",
      "KNOWN: 55.23\n",
      "\n",
      "https://colorcodedlyrics.com/nc-a-i-m-different-nan-jom-dalla\n",
      "KNOWN: 55.11\n",
      "\n",
      "https://colorcodedlyrics.com/boyz-got-isseo\n",
      "KNOWN: 55.11\n",
      "\n",
      "https://www.lyrics.co.kr/?p=39892\n",
      "KNOWN: 55.0\n",
      "\n",
      "https://www.lyrics.co.kr/?p=41854\n",
      "KNOWN: 53.99\n",
      "\n",
      "https://www.lyrics.co.kr/?p=71138\n",
      "KNOWN: 53.57\n",
      "\n",
      "https://www.lyrics.co.kr/?p=19676\n",
      "KNOWN: 53.41\n",
      "\n",
      "https://www.lyrics.co.kr/?p=15653\n",
      "KNOWN: 53.33\n",
      "\n",
      "https://www.lyrics.co.kr/?p=28106\n",
      "KNOWN: 53.11\n",
      "\n",
      "https://www.lyrics.co.kr/?p=78859\n",
      "KNOWN: 53.01\n",
      "\n",
      "https://colorcodedlyrics.com/2ne1-i-am-the-best-cc-lyrics\n",
      "KNOWN: 52.29\n",
      "\n",
      "https://www.lyrics.co.kr/?p=41804\n",
      "KNOWN: 51.21\n",
      "\n",
      "https://colorcodedlyrics.com/artist-name-song-title-kor-title-16\n",
      "KNOWN: 51.17\n",
      "\n",
      "https://www.lyrics.co.kr/?p=87278\n",
      "KNOWN: 51.07\n",
      "\n",
      "https://www.lyrics.co.kr/?p=64856\n",
      "KNOWN: 51.01\n",
      "\n",
      "https://www.lyrics.co.kr/?p=39089\n",
      "KNOWN: 50.97\n",
      "\n",
      "https://www.lyrics.co.kr/?p=21655\n",
      "KNOWN: 50.87\n",
      "\n",
      "https://www.lyrics.co.kr/?p=20095\n",
      "KNOWN: 50.85\n",
      "\n",
      "https://www.lyrics.co.kr/?p=13761\n",
      "KNOWN: 50.84\n",
      "\n",
      "https://colorcodedlyrics.com/lim-kim-gimyelim-eddy-kim-edikim-roommate-lummeiteu\n",
      "KNOWN: 50.72\n",
      "\n",
      "https://www.lyrics.co.kr/?p=23583\n",
      "KNOWN: 50.72\n"
     ]
    }
   ],
   "source": [
    "checkLessonNum = input(\"For which lesson would you like to view outputs?\\n\")\n",
    "checkLessonNum = int(checkLessonNum)\n",
    "#just set this manually to 50 since that's probablya  good number to start with\n",
    "checkWordCount = 50\n",
    "\n",
    "lessonString = 'l' + str(checkLessonNum)\n",
    "m1 = df['word count'] > checkWordCount\n",
    "results = df.loc[m1, ('word count',lessonString)]\n",
    "results = results.sort_values([lessonString, 'word count'], ascending = False)\n",
    "count = 0\n",
    "for index, row in results.iterrows():\n",
    "    print('')\n",
    "    print(index)\n",
    "    print(\"KNOWN:\", round(row[lessonString] * 100, 2))\n",
    "    count += 1\n",
    "    if (count == 25):\n",
    "        break"
   ]
  },
  {
   "cell_type": "code",
   "execution_count": null,
   "metadata": {},
   "outputs": [],
   "source": []
  }
 ],
 "metadata": {
  "kernelspec": {
   "display_name": "Python 3",
   "language": "python",
   "name": "python3"
  },
  "language_info": {
   "codemirror_mode": {
    "name": "ipython",
    "version": 3
   },
   "file_extension": ".py",
   "mimetype": "text/x-python",
   "name": "python",
   "nbconvert_exporter": "python",
   "pygments_lexer": "ipython3",
   "version": "3.6.5rc1"
  }
 },
 "nbformat": 4,
 "nbformat_minor": 2
}
